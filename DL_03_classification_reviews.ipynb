{
 "cells": [
  {
   "cell_type": "code",
   "execution_count": 6,
   "metadata": {
    "slideshow": {
     "slide_type": "skip"
    }
   },
   "outputs": [
    {
     "data": {
      "text/plain": [
       "'2.2.2'"
      ]
     },
     "execution_count": 6,
     "metadata": {},
     "output_type": "execute_result"
    }
   ],
   "source": [
    "import keras\n",
    "keras.__version__"
   ]
  },
  {
   "cell_type": "markdown",
   "metadata": {
    "slideshow": {
     "slide_type": "slide"
    }
   },
   "source": [
    "# Classification des critiques de films: un exemple de classification binaire\n",
    "\n",
    "La classification à deux classes, ou classification binaire, peut être le type de problème d’apprentissage automatique le plus largement appliqué. Dans cet exemple, nous apprendra à classer les critiques de films en critiques \"positives\" et \"négatives\", uniquement en fonction du contenu textuel des critiques."
   ]
  },
  {
   "cell_type": "markdown",
   "metadata": {
    "slideshow": {
     "slide_type": "subslide"
    }
   },
   "source": [
    "## The IMDB dataset\n",
    "\n",
    "Nous allons travailler avec \"l'ensemble de données IMDB\", un ensemble de 50 000 critiques de la base de données Internet Movie. Ils sont divisés en 25 000 revues pour l'apprentissage et 25 000 revues pour les tests, chaque série comprenant 50% de critiques négatives et 50% de critiques positives.\n",
    "\n",
    "Tout comme le jeu de données MNIST, le jeu de données IMDB est fourni avec Keras. \n",
    "\n",
    "Il a déjà été prétraité: les critiques (séquences de mots) ont été transformés en séquences d’entiers, chaque entier représentant un mot spécifique dans un dictionnaire.\n",
    "\n",
    "Le code suivant chargera le jeu de données (lorsque vous l'exécuterez pour la première fois, environ 80 Mo de données seront téléchargés sur votre ordinateur):"
   ]
  },
  {
   "cell_type": "code",
   "execution_count": 7,
   "metadata": {
    "slideshow": {
     "slide_type": "subslide"
    }
   },
   "outputs": [],
   "source": [
    "from keras.datasets import imdb\n",
    "\n",
    "(train_data, train_labels), (test_data, test_labels) = imdb.load_data(num_words=10000)"
   ]
  },
  {
   "cell_type": "markdown",
   "metadata": {
    "slideshow": {
     "slide_type": "fragment"
    }
   },
   "source": [
    "\n",
    "- `num_words = 10000` signifie que nous ne conserverons que les 10 000 mots les plus fréquents dans les données d'apprentissage. Cela nous permet de travailler avec des données vectorielles de taille gérable.\n",
    "\n",
    "- `train_data` et` test_data` sont des listes de revues, chaque revue étant une liste d'index de mots (codant une séquence de mots). \n",
    "- `train_labels` et` test_labels` sont des listes de 0 et de 1, où 0 signifie \"négatif\" et 1, \"positif\""
   ]
  },
  {
   "cell_type": "markdown",
   "metadata": {
    "slideshow": {
     "slide_type": "subslide"
    }
   },
   "source": [
    "Voici comment décoder une revue :"
   ]
  },
  {
   "cell_type": "code",
   "execution_count": 10,
   "metadata": {
    "slideshow": {
     "slide_type": "fragment"
    }
   },
   "outputs": [],
   "source": [
    "# word_index is a dictionary mapping words to an integer index\n",
    "word_index = imdb.get_word_index()\n",
    "# We reverse it, mapping integer indices to words\n",
    "reverse_word_index = dict([(value, key) for (key, value) in word_index.items()])\n",
    "# We decode the review; note that our indices were offset by 3\n",
    "# because 0, 1 and 2 are reserved indices for \"padding\", \"start of sequence\", and \"unknown\".\n",
    "decoded_review = ' '.join([reverse_word_index.get(i - 3, '?') for i in train_data[3]])"
   ]
  },
  {
   "cell_type": "markdown",
   "metadata": {
    "slideshow": {
     "slide_type": "slide"
    }
   },
   "source": [
    "## Préparation des données\n",
    "\n",
    "\n",
    "Nous ne pouvons pas introduire de listes d'entiers dans un réseau de neurones. Nous devons transformer nos listes en tenseurs. Nous pouvons le faire de deux manières :\n",
    "\n",
    "- Nous pourrions compiler nos listes pour qu’elles aient toutes la même longueur et les transformer en un tenseur entier de forme `(samples, word_indices)`, puis utiliser comme première couche de notre réseau une couche capable de gérer de tels tenseurs entiers (la couche `Embedding`).\n",
    "\n",
    "- Nous pourrions coder à chaud nos listes pour les transformer en vecteurs de 0 et de 1. Concrètement, cela signifierait, par exemple, tourner la séquence `[3, 5]` dans un vecteur de 10 000 dimensions qui serait composé de zéros sauf les indices 3 et 5, qui seraient un. Ensuite, nous pourrions utiliser comme première couche de notre réseau, une couche `Dense`, capable de traiter des données vectorielles à virgule flottante.\n",
    "\n",
    "Nous utilisons cette dernière solution. Vectorisons nos données, ce que nous ferons manuellement pour une clarté maximale:"
   ]
  },
  {
   "cell_type": "code",
   "execution_count": 12,
   "metadata": {
    "slideshow": {
     "slide_type": "fragment"
    }
   },
   "outputs": [],
   "source": [
    "import numpy as np\n",
    "\n",
    "def vectorize_sequences(sequences, dimension=10000):\n",
    "    # Create an all-zero matrix of shape (len(sequences), dimension)\n",
    "    results = np.zeros((len(sequences), dimension))\n",
    "    for i, sequence in enumerate(sequences):\n",
    "        results[i, sequence] = 1.  # set specific indices of results[i] to 1s\n",
    "    return results\n",
    "\n",
    "# Our vectorized training data\n",
    "x_train = vectorize_sequences(train_data)\n",
    "# Our vectorized test data\n",
    "x_test = vectorize_sequences(test_data)"
   ]
  },
  {
   "cell_type": "markdown",
   "metadata": {
    "slideshow": {
     "slide_type": "subslide"
    }
   },
   "source": [
    "On vectorise aussi nos labels :"
   ]
  },
  {
   "cell_type": "code",
   "execution_count": 18,
   "metadata": {
    "slideshow": {
     "slide_type": "fragment"
    }
   },
   "outputs": [],
   "source": [
    "# Our vectorized labels\n",
    "y_train = np.asarray(train_labels).astype('float32')\n",
    "y_test = np.asarray(test_labels).astype('float32')"
   ]
  },
  {
   "cell_type": "markdown",
   "metadata": {
    "slideshow": {
     "slide_type": "slide"
    }
   },
   "source": [
    "\n",
    "## Construire notre réseau\n",
    "\n",
    "Nos données d'entrée sont simplement des vecteurs et nos étiquettes sont des scalaires (1 et 0): c'est la configuration la plus simple. \n",
    "\n",
    "Un réseau qui fonctionne bien sur un tel problème serait une simple pile de couches entièrement connectées (`Dense`) avec les activations `relu`: `Dense (16,activation = 'relu')`\n",
    "\n",
    "L'argument transmis à chaque couche `Dense` (16) est le nombre d'unités cachées de la couche. "
   ]
  },
  {
   "cell_type": "markdown",
   "metadata": {
    "slideshow": {
     "slide_type": "subslide"
    }
   },
   "source": [
    "## Qu'est-ce qu'une unité cachée? \n",
    "\n",
    "C'est une dimension dans l'espace de représentation de la couche. \n",
    "\n",
    "\n",
    "Avoir 16 unités cachées signifie que la matrice de pondération \"W\" aura la forme \"(input_dimension, 16)\", c’est-à-dire que le produit scalaire avec \"W\" projettera les données dans un espace de représentation à 16 dimensions \n",
    "\n",
    "\n",
    "Vous pouvez comprendre intuitivement la dimensionnalité de votre espace de représentation comme \"la liberté que vous donnez au réseau quand vous apprendre les représentations internes \". \n",
    "\n",
    "\n",
    "Avoir plus d'unités cachées (un espace de représentation de dimension supérieure) permet à votre réseau d'apprendre des\n",
    "représentations plus complexes\n",
    "\n",
    "\n",
    "Il faut prendre deux décisions d’architecture importantes concernant cet empilement de couches denses:\n",
    "\n",
    "* Combien de couches à utiliser.\n",
    "* Combien d'unités cachées choisir pour chaque couche.\n",
    "\n",
    "Un `relu` (unité linéaire rectifiée) est une fonction destinée à mettre à zéro les valeurs négatives,\n",
    "tandis qu'un sigmoïde \"écrase\" des valeurs arbitraires dans l'intervalle `[0, 1]`, générant ainsi quelque chose qui peut être interprété comme une probabilité."
   ]
  },
  {
   "cell_type": "markdown",
   "metadata": {
    "slideshow": {
     "slide_type": "subslide"
    }
   },
   "source": [
    "Voici l'implémentation Keras :"
   ]
  },
  {
   "cell_type": "code",
   "execution_count": 13,
   "metadata": {
    "slideshow": {
     "slide_type": "fragment"
    }
   },
   "outputs": [],
   "source": [
    "from keras import models\n",
    "from keras import layers\n",
    "\n",
    "model = models.Sequential()\n",
    "model.add(layers.Dense(16, activation='relu', input_shape=(10000,)))\n",
    "model.add(layers.Dense(16, activation='relu'))\n",
    "model.add(layers.Dense(1, activation='sigmoid'))"
   ]
  },
  {
   "cell_type": "markdown",
   "metadata": {
    "slideshow": {
     "slide_type": "subslide"
    }
   },
   "source": [
    "Enfin, nous devons choisir une fonction de perte et un optimiseur. \n",
    "\n",
    "Puisque nous sommes confrontés à un problème de classification binaire et à la sortie de notre réseau est une probabilité, il est préférable d'utiliser la perte `binary_crossentropy`.\n",
    "\n",
    "Ce n'est pas le seul choix viable: vous pouvez utiliser, par exemple, `mean_squared_error`. Mais la cross-centropie est généralement le meilleur choix lorsque vous traitent des modèles qui produisent des probabilités. \n",
    "\n",
    "Voici l'étape où nous configurons notre modèle avec l'optimiseur `rmsprop` et la fonction de perte` binary_crossentropy`. Notez que nous allons surveillez également la précision pendant l'apprentissage."
   ]
  },
  {
   "cell_type": "code",
   "execution_count": 14,
   "metadata": {
    "slideshow": {
     "slide_type": "fragment"
    }
   },
   "outputs": [],
   "source": [
    "model.compile(optimizer='rmsprop',\n",
    "              loss='binary_crossentropy',\n",
    "              metrics=['accuracy'])"
   ]
  },
  {
   "cell_type": "markdown",
   "metadata": {
    "slideshow": {
     "slide_type": "subslide"
    }
   },
   "source": [
    "\n",
    "## Valider notre approche\n",
    "\n",
    "Afin de contrôler au cours de l'apprentissage la précision du modèle sur des données qu’il n’a jamais vues auparavant, nous allons créer un \"jeu de validation\" avec 10 000 échantillons des données d'entraînement originales :"
   ]
  },
  {
   "cell_type": "code",
   "execution_count": 19,
   "metadata": {
    "slideshow": {
     "slide_type": "fragment"
    }
   },
   "outputs": [],
   "source": [
    "x_val = x_train[:10000]\n",
    "partial_x_train = x_train[10000:]\n",
    "\n",
    "y_val = y_train[:10000]\n",
    "partial_y_train = y_train[10000:]"
   ]
  },
  {
   "cell_type": "markdown",
   "metadata": {
    "collapsed": true,
    "slideshow": {
     "slide_type": "subslide"
    }
   },
   "source": [
    "Nous allons maintenant former notre modèle pour 20 époques (20 itérations sur tous les échantillons des tenseurs `x_train` et` y_train`), en mini-lots de 512 échantillons. \n",
    "\n",
    "Parallèlement, nous surveillerons la perte et la précision des 10 000 échantillons que nous avons mis de côté. Ceci est fait en passant les données de validation en tant qu'argument `validation_data`:"
   ]
  },
  {
   "cell_type": "code",
   "execution_count": 29,
   "metadata": {
    "slideshow": {
     "slide_type": "fragment"
    }
   },
   "outputs": [
    {
     "name": "stdout",
     "output_type": "stream",
     "text": [
      "Train on 15000 samples, validate on 10000 samples\n",
      "Epoch 1/20\n",
      "15000/15000 [==============================] - 5s 339us/step - loss: 0.1399 - acc: 0.9518 - val_loss: 0.1406 - val_acc: 0.9522\n",
      "Epoch 2/20\n",
      "15000/15000 [==============================] - 4s 271us/step - loss: 0.1178 - acc: 0.9607 - val_loss: 0.1571 - val_acc: 0.9422\n",
      "Epoch 3/20\n",
      "15000/15000 [==============================] - 4s 272us/step - loss: 0.0959 - acc: 0.9713 - val_loss: 0.1679 - val_acc: 0.9385\n",
      "Epoch 4/20\n",
      "15000/15000 [==============================] - 4s 266us/step - loss: 0.0793 - acc: 0.9769 - val_loss: 0.1855 - val_acc: 0.9326\n",
      "Epoch 5/20\n",
      "15000/15000 [==============================] - 4s 268us/step - loss: 0.0671 - acc: 0.9807 - val_loss: 0.2037 - val_acc: 0.9254\n",
      "Epoch 6/20\n",
      "15000/15000 [==============================] - 4s 267us/step - loss: 0.0535 - acc: 0.9867 - val_loss: 0.2368 - val_acc: 0.9165\n",
      "Epoch 7/20\n",
      "15000/15000 [==============================] - 4s 267us/step - loss: 0.0445 - acc: 0.9891 - val_loss: 0.2513 - val_acc: 0.9147\n",
      "Epoch 8/20\n",
      "15000/15000 [==============================] - 4s 269us/step - loss: 0.0354 - acc: 0.9915 - val_loss: 0.2762 - val_acc: 0.9117\n",
      "Epoch 9/20\n",
      "15000/15000 [==============================] - 4s 268us/step - loss: 0.0279 - acc: 0.9947 - val_loss: 0.3069 - val_acc: 0.9082\n",
      "Epoch 10/20\n",
      "15000/15000 [==============================] - 4s 272us/step - loss: 0.0242 - acc: 0.9946 - val_loss: 0.3282 - val_acc: 0.9059\n",
      "Epoch 11/20\n",
      "15000/15000 [==============================] - 4s 276us/step - loss: 0.0139 - acc: 0.9983 - val_loss: 0.3561 - val_acc: 0.9034\n",
      "Epoch 12/20\n",
      "15000/15000 [==============================] - 4s 275us/step - loss: 0.0121 - acc: 0.9983 - val_loss: 0.3907 - val_acc: 0.9018\n",
      "Epoch 13/20\n",
      "15000/15000 [==============================] - 4s 276us/step - loss: 0.0115 - acc: 0.9975 - val_loss: 0.4261 - val_acc: 0.8981\n",
      "Epoch 14/20\n",
      "15000/15000 [==============================] - 4s 299us/step - loss: 0.0054 - acc: 0.9998 - val_loss: 0.5108 - val_acc: 0.8891\n",
      "Epoch 15/20\n",
      "15000/15000 [==============================] - 4s 272us/step - loss: 0.0070 - acc: 0.9992 - val_loss: 0.4883 - val_acc: 0.8935\n",
      "Epoch 16/20\n",
      "15000/15000 [==============================] - 4s 276us/step - loss: 0.0030 - acc: 0.9999 - val_loss: 0.5192 - val_acc: 0.8918\n",
      "Epoch 17/20\n",
      "15000/15000 [==============================] - 4s 265us/step - loss: 0.0046 - acc: 0.9995 - val_loss: 0.5465 - val_acc: 0.8906\n",
      "Epoch 18/20\n",
      "15000/15000 [==============================] - 4s 272us/step - loss: 0.0016 - acc: 0.9999 - val_loss: 0.5891 - val_acc: 0.8867\n",
      "Epoch 19/20\n",
      "15000/15000 [==============================] - 4s 271us/step - loss: 0.0058 - acc: 0.9985 - val_loss: 0.6050 - val_acc: 0.8882\n",
      "Epoch 20/20\n",
      "15000/15000 [==============================] - 4s 284us/step - loss: 8.3589e-04 - acc: 1.0000 - val_loss: 0.6285 - val_acc: 0.8870\n"
     ]
    }
   ],
   "source": [
    "history = model.fit(partial_x_train,\n",
    "                    partial_y_train,\n",
    "                    epochs=20,\n",
    "                    batch_size=512,\n",
    "                    validation_data=(x_val, y_val))"
   ]
  },
  {
   "cell_type": "code",
   "execution_count": 21,
   "metadata": {
    "slideshow": {
     "slide_type": "subslide"
    }
   },
   "outputs": [
    {
     "data": {
      "text/plain": [
       "dict_keys(['val_loss', 'val_binary_accuracy', 'loss', 'binary_accuracy'])"
      ]
     },
     "execution_count": 21,
     "metadata": {},
     "output_type": "execute_result"
    }
   ],
   "source": [
    "history_dict = history.history\n",
    "history_dict.keys()"
   ]
  },
  {
   "cell_type": "code",
   "execution_count": 23,
   "metadata": {
    "slideshow": {
     "slide_type": "skip"
    }
   },
   "outputs": [
    {
     "data": {
      "image/png": "[encoded data removed]",
      "text/plain": [
       "<Figure size 432x288 with 1 Axes>"
      ]
     },
     "metadata": {},
     "output_type": "display_data"
    }
   ],
   "source": [
    "import matplotlib.pyplot as plt\n",
    "\n",
    "acc = history.history['binary_accuracy']\n",
    "val_acc = history.history['val_binary_accuracy']\n",
    "loss = history.history['loss']\n",
    "val_loss = history.history['val_loss']\n",
    "\n",
    "epochs = range(1, len(acc) + 1)\n",
    "\n",
    "# \"bo\" is for \"blue dot\"\n",
    "plt.plot(epochs, loss, 'bo', label='Training loss')\n",
    "# b is for \"solid blue line\"\n",
    "plt.plot(epochs, val_loss, 'b', label='Validation loss')\n",
    "plt.title('Training and validation loss')\n",
    "plt.xlabel('Epochs')\n",
    "plt.ylabel('Loss')\n",
    "plt.legend()\n",
    "\n",
    "plt.show()"
   ]
  },
  {
   "cell_type": "code",
   "execution_count": 25,
   "metadata": {
    "slideshow": {
     "slide_type": "skip"
    }
   },
   "outputs": [
    {
     "data": {
      "image/png": "[encoded data removed]",
      "text/plain": [
       "<Figure size 432x288 with 1 Axes>"
      ]
     },
     "metadata": {},
     "output_type": "display_data"
    }
   ],
   "source": [
    "plt.clf()   # clear figure\n",
    "acc_values = history_dict['binary_accuracy']\n",
    "val_acc_values = history_dict['val_binary_accuracy']\n",
    "\n",
    "plt.plot(epochs, acc, 'bo', label='Training acc')\n",
    "plt.plot(epochs, val_acc, 'b', label='Validation acc')\n",
    "plt.title('Training and validation accuracy')\n",
    "plt.xlabel('Epochs')\n",
    "plt.ylabel('Loss')\n",
    "plt.legend()\n",
    "\n",
    "plt.show()"
   ]
  },
  {
   "cell_type": "markdown",
   "metadata": {
    "slideshow": {
     "slide_type": "skip"
    }
   },
   "source": [
    "Les points représentent la perte et la précision de l'apprentissage, tandis que les traits pleins représentent la perte et la précision de la validation. \n",
    "\n",
    "Pour combler ce problème, on pourrait tester :"
   ]
  },
  {
   "cell_type": "code",
   "execution_count": 26,
   "metadata": {
    "slideshow": {
     "slide_type": "subslide"
    }
   },
   "outputs": [
    {
     "name": "stdout",
     "output_type": "stream",
     "text": [
      "Epoch 1/4\n",
      "25000/25000 [==============================] - 2s 91us/step - loss: 0.4749 - acc: 0.8217\n",
      "Epoch 2/4\n",
      "25000/25000 [==============================] - 2s 82us/step - loss: 0.2658 - acc: 0.9097\n",
      "Epoch 3/4\n",
      "25000/25000 [==============================] - 2s 81us/step - loss: 0.1982 - acc: 0.9299\n",
      "Epoch 4/4\n",
      "25000/25000 [==============================] - 2s 80us/step - loss: 0.1679 - acc: 0.9402\n",
      "25000/25000 [==============================] - 3s 101us/step\n"
     ]
    }
   ],
   "source": [
    "model = models.Sequential()\n",
    "model.add(layers.Dense(16, activation='relu', input_shape=(10000,)))\n",
    "model.add(layers.Dense(16, activation='relu'))\n",
    "model.add(layers.Dense(1, activation='sigmoid'))\n",
    "\n",
    "model.compile(optimizer='rmsprop',\n",
    "              loss='binary_crossentropy',\n",
    "              metrics=['accuracy'])\n",
    "\n",
    "model.fit(x_train, y_train, epochs=4, batch_size=512)\n",
    "results = model.evaluate(x_test, y_test)"
   ]
  },
  {
   "cell_type": "code",
   "execution_count": 27,
   "metadata": {
    "slideshow": {
     "slide_type": "subslide"
    }
   },
   "outputs": [
    {
     "data": {
      "text/plain": [
       "[0.32443902156829835, 0.87296]"
      ]
     },
     "execution_count": 27,
     "metadata": {},
     "output_type": "execute_result"
    }
   ],
   "source": [
    "results"
   ]
  },
  {
   "cell_type": "markdown",
   "metadata": {
    "slideshow": {
     "slide_type": "slide"
    }
   },
   "source": [
    "\n",
    "## Utiliser un réseau pour générer des prévisions sur de nouvelles données\n",
    "\n",
    "Après avoir formé un réseau, vous souhaiterez l’utiliser de manière pratique. Vous pouvez générer la probabilité que les avis soient positifs en utilisant la méthode `Predict`:"
   ]
  },
  {
   "cell_type": "code",
   "execution_count": 28,
   "metadata": {
    "slideshow": {
     "slide_type": "fragment"
    }
   },
   "outputs": [
    {
     "data": {
      "text/plain": [
       "array([[0.13948491],\n",
       "       [0.999701  ],\n",
       "       [0.28898463],\n",
       "       ...,\n",
       "       [0.07168164],\n",
       "       [0.04301627],\n",
       "       [0.4793026 ]], dtype=float32)"
      ]
     },
     "execution_count": 28,
     "metadata": {},
     "output_type": "execute_result"
    }
   ],
   "source": [
    "model.predict(x_test)"
   ]
  },
  {
   "cell_type": "markdown",
   "metadata": {
    "slideshow": {
     "slide_type": "subslide"
    }
   },
   "source": [
    "\n",
    "## Autres expériences\n",
    "\n",
    "\n",
    "* Nous utilisions 2 couches cachées. Essayez d'utiliser 1 ou 3 couches cachées et voyez comment cela affecte la validation et la précision des tests.\n",
    "* Essayez d'utiliser des couches avec plus d'unités cachées ou moins: 32 unités, 64 unités ...\n",
    "* Essayez d’utiliser la fonction de perte `mse` au lieu de` binary_crossentropy`.\n",
    "* Essayez d'utiliser l'activation `tanh` (une activation qui était populaire dans les premiers jours des réseaux de neurones) au lieu de` relu`."
   ]
  }
 ],
 "metadata": {
  "celltoolbar": "Diaporama",
  "kernelspec": {
   "display_name": "Python 3",
   "language": "python",
   "name": "python3"
  },
  "language_info": {
   "codemirror_mode": {
    "name": "ipython",
    "version": 3
   },
   "file_extension": ".py",
   "mimetype": "text/x-python",
   "name": "python",
   "nbconvert_exporter": "python",
   "pygments_lexer": "ipython3",
   "version": "3.6.5"
  }
 },
 "nbformat": 4,
 "nbformat_minor": 2
}
