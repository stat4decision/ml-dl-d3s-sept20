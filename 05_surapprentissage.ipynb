{
 "cells": [
  {
   "cell_type": "code",
   "execution_count": 1,
   "metadata": {
    "slideshow": {
     "slide_type": "skip"
    }
   },
   "outputs": [
    {
     "ename": "NameError",
     "evalue": "name 'keras' is not defined",
     "output_type": "error",
     "traceback": [
      "\u001b[0;31m---------------------------------------------------------------------------\u001b[0m",
      "\u001b[0;31mNameError\u001b[0m                                 Traceback (most recent call last)",
      "\u001b[0;32m<ipython-input-1-43d543376903>\u001b[0m in \u001b[0;36m<module>\u001b[0;34m\u001b[0m\n\u001b[1;32m      1\u001b[0m \u001b[0;32mimport\u001b[0m \u001b[0mtensorflow\u001b[0m\u001b[0;34m.\u001b[0m\u001b[0mkeras\u001b[0m\u001b[0;34m\u001b[0m\u001b[0;34m\u001b[0m\u001b[0m\n\u001b[0;32m----> 2\u001b[0;31m \u001b[0mkeras\u001b[0m\u001b[0;34m.\u001b[0m\u001b[0m__version__\u001b[0m\u001b[0;34m\u001b[0m\u001b[0;34m\u001b[0m\u001b[0m\n\u001b[0m",
      "\u001b[0;31mNameError\u001b[0m: name 'keras' is not defined"
     ]
    }
   ],
   "source": [
    "import tensorflow.keras\n",
    "keras.__version__"
   ]
  },
  {
   "cell_type": "markdown",
   "metadata": {
    "slideshow": {
     "slide_type": "slide"
    }
   },
   "source": [
    "# Overfitting et underfitting\n",
    "\n",
    "\n",
    "## Comment se battre contre l'overfitting dans un réseau de deep learning ?\n",
    "\n",
    "Le problème fondamental de l’apprentissage automatique est la tension entre optimisation et généralisation. \n",
    "\n",
    "\n",
    "- \"Optimisation\" fait référence au processus d'ajustement d'un modèle pour obtenir les meilleures performances possibles sur les données d'apprentissage\n",
    "\n",
    "\n",
    "- \"généralisation\" se réfère aux performances du modèle formé sur les données qu'il possède\n",
    "\n",
    "\n",
    "Le but du jeu est bien sûr d’obtenir une bonne généralisation, mais vous ne contrôlez pas la généralisation; vous pouvez uniquement ajuster le modèle en fonction de ses données d'apprentissage."
   ]
  },
  {
   "cell_type": "markdown",
   "metadata": {
    "slideshow": {
     "slide_type": "subslide"
    }
   },
   "source": [
    "## Les solutions :\n",
    "\n",
    "- obtenir davantage de données d'apprentissage\n",
    "\n",
    "- moduler la quantité d’informations que votre modèle est autorisé à stocker ou à ajouter des contraintes sur les informations qu’elle est autorisée à stocker. On appelle cela la _regularisation_. "
   ]
  },
  {
   "cell_type": "code",
   "execution_count": 2,
   "metadata": {
    "slideshow": {
     "slide_type": "subslide"
    }
   },
   "outputs": [],
   "source": [
    "from tensorflow.keras.datasets import imdb\n",
    "import numpy as np\n",
    "\n",
    "(train_data, train_labels), (test_data, test_labels) = imdb.load_data(num_words=10000)\n",
    "\n",
    "def vectorize_sequences(sequences, dimension=10000):\n",
    "    # Create an all-zero matrix of shape (len(sequences), dimension)\n",
    "    results = np.zeros((len(sequences), dimension))\n",
    "    for i, sequence in enumerate(sequences):\n",
    "        results[i, sequence] = 1.  # set specific indices of results[i] to 1s\n",
    "    return results\n",
    "\n",
    "# Our vectorized training data\n",
    "x_train = vectorize_sequences(train_data)\n",
    "# Our vectorized test data\n",
    "x_test = vectorize_sequences(test_data)\n",
    "# Our vectorized labels\n",
    "y_train = np.asarray(train_labels).astype('float32')\n",
    "y_test = np.asarray(test_labels).astype('float32')"
   ]
  },
  {
   "cell_type": "markdown",
   "metadata": {
    "slideshow": {
     "slide_type": "slide"
    }
   },
   "source": [
    "\n",
    "# Combattre l'overfitting\n",
    "\n",
    "## Réduire la taille du réseau\n",
    "\n",
    "Le moyen le plus simple d’empêcher l’overfitting est de réduire la taille du modèle, c’est-à-dire le nombre de paramètres pouvant être appris dans le modèle\n",
    "\n",
    "Malheureusement, il n’existe pas de formule magique permettant de déterminer le nombre exact de couches ou la taille appropriée de chaque couche. Vous devrez évaluer un ensemble de différentes architectures (sur votre jeu de validation, pas sur votre jeu de test, bien sûr) afin de trouver le bonne taille de modèle pour vos données. \n",
    "\n",
    "Le processus général pour trouver une taille de modèle appropriée consiste à commencer avec relativement peu de couches et\n",
    "paramètres, et commencez à augmenter la taille des couches ou à ajouter de nouvelles couches jusqu'à voir des rendements décroissants en ce qui concerne le perte de validation.\n",
    "\n",
    "Essayons ceci sur notre réseau de classification de critiques de films. Notre réseau d'origine était en tant que tel:"
   ]
  },
  {
   "cell_type": "code",
   "execution_count": 3,
   "metadata": {
    "slideshow": {
     "slide_type": "subslide"
    }
   },
   "outputs": [],
   "source": [
    "from tensorflow.keras import models\n",
    "from tensorflow.keras import layers\n",
    "\n",
    "original_model = models.Sequential()\n",
    "original_model.add(layers.Dense(16, activation='relu', input_shape=(10000,)))\n",
    "original_model.add(layers.Dense(16, activation='relu'))\n",
    "original_model.add(layers.Dense(1, activation='sigmoid'))\n",
    "\n",
    "original_model.compile(optimizer='rmsprop',\n",
    "                       loss='binary_crossentropy',\n",
    "                       metrics=['acc'])"
   ]
  },
  {
   "cell_type": "markdown",
   "metadata": {
    "slideshow": {
     "slide_type": "subslide"
    }
   },
   "source": [
    "\n",
    "Essayons maintenant de le remplacer par ce réseau plus petit"
   ]
  },
  {
   "cell_type": "code",
   "execution_count": 4,
   "metadata": {
    "slideshow": {
     "slide_type": "fragment"
    }
   },
   "outputs": [],
   "source": [
    "smaller_model = models.Sequential()\n",
    "smaller_model.add(layers.Dense(4, activation='relu', input_shape=(10000,)))\n",
    "smaller_model.add(layers.Dense(4, activation='relu'))\n",
    "smaller_model.add(layers.Dense(1, activation='sigmoid'))\n",
    "\n",
    "smaller_model.compile(optimizer='rmsprop',\n",
    "                      loss='binary_crossentropy',\n",
    "                      metrics=['acc'])"
   ]
  },
  {
   "cell_type": "code",
   "execution_count": 5,
   "metadata": {
    "slideshow": {
     "slide_type": "subslide"
    }
   },
   "outputs": [
    {
     "name": "stdout",
     "output_type": "stream",
     "text": [
      "Train on 25000 samples, validate on 25000 samples\n",
      "Epoch 1/20\n",
      "25000/25000 [==============================] - 5s 191us/step - loss: 0.4440 - acc: 0.8251 - val_loss: 0.3285 - val_acc: 0.8836\n",
      "Epoch 2/20\n",
      "25000/25000 [==============================] - 4s 154us/step - loss: 0.2573 - acc: 0.9077 - val_loss: 0.2864 - val_acc: 0.8883\n",
      "Epoch 3/20\n",
      "25000/25000 [==============================] - 4s 152us/step - loss: 0.1992 - acc: 0.9293 - val_loss: 0.2822 - val_acc: 0.8892\n",
      "Epoch 4/20\n",
      "25000/25000 [==============================] - 4s 158us/step - loss: 0.1666 - acc: 0.9413 - val_loss: 0.2940 - val_acc: 0.8848\n",
      "Epoch 5/20\n",
      "25000/25000 [==============================] - 4s 152us/step - loss: 0.1435 - acc: 0.9502 - val_loss: 0.3115 - val_acc: 0.8806\n",
      "Epoch 6/20\n",
      "25000/25000 [==============================] - 4s 150us/step - loss: 0.1258 - acc: 0.9558 - val_loss: 0.3486 - val_acc: 0.8718\n",
      "Epoch 7/20\n",
      "25000/25000 [==============================] - 4s 159us/step - loss: 0.1111 - acc: 0.9616 - val_loss: 0.3583 - val_acc: 0.8732\n",
      "Epoch 8/20\n",
      "25000/25000 [==============================] - 4s 148us/step - loss: 0.0980 - acc: 0.9670 - val_loss: 0.3956 - val_acc: 0.8657\n",
      "Epoch 9/20\n",
      "25000/25000 [==============================] - 4s 147us/step - loss: 0.0845 - acc: 0.9721 - val_loss: 0.4348 - val_acc: 0.8604\n",
      "Epoch 10/20\n",
      "25000/25000 [==============================] - 4s 147us/step - loss: 0.0757 - acc: 0.9758 - val_loss: 0.4996 - val_acc: 0.8528\n",
      "Epoch 11/20\n",
      "25000/25000 [==============================] - 4s 146us/step - loss: 0.0685 - acc: 0.9780 - val_loss: 0.4862 - val_acc: 0.8593\n",
      "Epoch 12/20\n",
      "25000/25000 [==============================] - 4s 152us/step - loss: 0.0583 - acc: 0.9819 - val_loss: 0.5101 - val_acc: 0.8577\n",
      "Epoch 13/20\n",
      "25000/25000 [==============================] - 4s 145us/step - loss: 0.0504 - acc: 0.9842 - val_loss: 0.5361 - val_acc: 0.8584\n",
      "Epoch 14/20\n",
      "25000/25000 [==============================] - 4s 146us/step - loss: 0.0425 - acc: 0.9882 - val_loss: 0.5852 - val_acc: 0.8531\n",
      "Epoch 15/20\n",
      "25000/25000 [==============================] - 4s 144us/step - loss: 0.0361 - acc: 0.9898 - val_loss: 0.6093 - val_acc: 0.8556\n",
      "Epoch 16/20\n",
      "25000/25000 [==============================] - 4s 146us/step - loss: 0.0310 - acc: 0.9914 - val_loss: 0.6427 - val_acc: 0.8537\n",
      "Epoch 17/20\n",
      "25000/25000 [==============================] - 4s 148us/step - loss: 0.0261 - acc: 0.9933 - val_loss: 0.6907 - val_acc: 0.8527\n",
      "Epoch 18/20\n",
      "25000/25000 [==============================] - 4s 147us/step - loss: 0.0207 - acc: 0.9952 - val_loss: 0.7282 - val_acc: 0.8511\n",
      "Epoch 19/20\n",
      "25000/25000 [==============================] - 4s 148us/step - loss: 0.0212 - acc: 0.9940 - val_loss: 0.7541 - val_acc: 0.8515\n",
      "Epoch 20/20\n",
      "25000/25000 [==============================] - 4s 159us/step - loss: 0.0138 - acc: 0.9967 - val_loss: 0.8701 - val_acc: 0.8418\n"
     ]
    }
   ],
   "source": [
    "original_hist = original_model.fit(x_train, y_train,\n",
    "                                   epochs=20,\n",
    "                                   batch_size=512,\n",
    "                                   validation_data=(x_test, y_test))"
   ]
  },
  {
   "cell_type": "code",
   "execution_count": 6,
   "metadata": {
    "slideshow": {
     "slide_type": "subslide"
    }
   },
   "outputs": [
    {
     "name": "stdout",
     "output_type": "stream",
     "text": [
      "Train on 25000 samples, validate on 25000 samples\n",
      "Epoch 1/20\n",
      "25000/25000 [==============================] - 4s 159us/step - loss: 0.5804 - acc: 0.7027 - val_loss: 0.5309 - val_acc: 0.7558\n",
      "Epoch 2/20\n",
      "25000/25000 [==============================] - 4s 146us/step - loss: 0.4843 - acc: 0.8454 - val_loss: 0.4876 - val_acc: 0.8282\n",
      "Epoch 3/20\n",
      "25000/25000 [==============================] - 4s 142us/step - loss: 0.4389 - acc: 0.8916 - val_loss: 0.4665 - val_acc: 0.8493\n",
      "Epoch 4/20\n",
      "25000/25000 [==============================] - 4s 141us/step - loss: 0.4077 - acc: 0.9153 - val_loss: 0.4536 - val_acc: 0.8638\n",
      "Epoch 5/20\n",
      "25000/25000 [==============================] - 4s 140us/step - loss: 0.3832 - acc: 0.9304 - val_loss: 0.4516 - val_acc: 0.8613\n",
      "Epoch 6/20\n",
      "25000/25000 [==============================] - 4s 145us/step - loss: 0.3621 - acc: 0.9411 - val_loss: 0.4423 - val_acc: 0.8726\n",
      "Epoch 7/20\n",
      "25000/25000 [==============================] - 4s 140us/step - loss: 0.3426 - acc: 0.9508 - val_loss: 0.4493 - val_acc: 0.8667\n",
      "Epoch 8/20\n",
      "25000/25000 [==============================] - 4s 142us/step - loss: 0.3262 - acc: 0.9567 - val_loss: 0.4509 - val_acc: 0.8675\n",
      "Epoch 9/20\n",
      "25000/25000 [==============================] - 4s 150us/step - loss: 0.3100 - acc: 0.9620 - val_loss: 0.4794 - val_acc: 0.8593\n",
      "Epoch 10/20\n",
      "25000/25000 [==============================] - 4s 152us/step - loss: 0.2959 - acc: 0.9655 - val_loss: 0.4610 - val_acc: 0.8658\n",
      "Epoch 11/20\n",
      "25000/25000 [==============================] - 4s 142us/step - loss: 0.2814 - acc: 0.9692 - val_loss: 0.4891 - val_acc: 0.8591\n",
      "Epoch 12/20\n",
      "25000/25000 [==============================] - 4s 144us/step - loss: 0.2688 - acc: 0.9716 - val_loss: 0.4777 - val_acc: 0.8635\n",
      "Epoch 13/20\n",
      "25000/25000 [==============================] - 4s 142us/step - loss: 0.2566 - acc: 0.9749 - val_loss: 0.5107 - val_acc: 0.8584\n",
      "Epoch 14/20\n",
      "25000/25000 [==============================] - 4s 145us/step - loss: 0.2454 - acc: 0.9761 - val_loss: 0.5525 - val_acc: 0.8538\n",
      "Epoch 15/20\n",
      "25000/25000 [==============================] - 4s 142us/step - loss: 0.2340 - acc: 0.9786 - val_loss: 0.4964 - val_acc: 0.8605\n",
      "Epoch 16/20\n",
      "25000/25000 [==============================] - 4s 144us/step - loss: 0.2240 - acc: 0.9800 - val_loss: 0.6372 - val_acc: 0.8458\n",
      "Epoch 17/20\n",
      "25000/25000 [==============================] - 4s 143us/step - loss: 0.2146 - acc: 0.9808 - val_loss: 0.6005 - val_acc: 0.8523\n",
      "Epoch 18/20\n",
      "25000/25000 [==============================] - 4s 142us/step - loss: 0.2055 - acc: 0.9820 - val_loss: 0.6147 - val_acc: 0.8517\n",
      "Epoch 19/20\n",
      "25000/25000 [==============================] - 4s 142us/step - loss: 0.1965 - acc: 0.9836 - val_loss: 0.5652 - val_acc: 0.8534\n",
      "Epoch 20/20\n",
      "25000/25000 [==============================] - 4s 141us/step - loss: 0.1889 - acc: 0.9838 - val_loss: 0.6827 - val_acc: 0.8492\n"
     ]
    }
   ],
   "source": [
    "smaller_model_hist = smaller_model.fit(x_train, y_train,\n",
    "                                       epochs=20,\n",
    "                                       batch_size=512,\n",
    "                                       validation_data=(x_test, y_test))"
   ]
  },
  {
   "cell_type": "code",
   "execution_count": 7,
   "metadata": {
    "slideshow": {
     "slide_type": "subslide"
    }
   },
   "outputs": [],
   "source": [
    "epochs = range(1, 21)\n",
    "original_val_loss = original_hist.history['val_loss']\n",
    "smaller_model_val_loss = smaller_model_hist.history['val_loss']"
   ]
  },
  {
   "cell_type": "code",
   "execution_count": 8,
   "metadata": {
    "slideshow": {
     "slide_type": "skip"
    }
   },
   "outputs": [
    {
     "data": {
      "text/plain": [
       "<Figure size 640x480 with 1 Axes>"
      ]
     },
     "metadata": {},
     "output_type": "display_data"
    }
   ],
   "source": [
    "import matplotlib.pyplot as plt\n",
    "\n",
    "# b+ is for \"blue cross\"\n",
    "plt.plot(epochs, original_val_loss, 'b+', label='Original model')\n",
    "# \"bo\" is for \"blue dot\"\n",
    "plt.plot(epochs, smaller_model_val_loss, 'bo', label='Smaller model')\n",
    "plt.xlabel('Epochs')\n",
    "plt.ylabel('Validation loss')\n",
    "plt.legend()\n",
    "\n",
    "plt.show()"
   ]
  },
  {
   "cell_type": "markdown",
   "metadata": {
    "slideshow": {
     "slide_type": "skip"
    }
   },
   "source": [
    "\n",
    "Comme vous pouvez le constater, le réseau le plus petit commence à surcharger plus tard que le réseau de référence (après 6 époques plutôt que 4) et ses performances.\n",
    "se dégrade beaucoup plus lentement une fois qu'il commence à overfitting."
   ]
  },
  {
   "cell_type": "markdown",
   "metadata": {
    "slideshow": {
     "slide_type": "slide"
    }
   },
   "source": [
    "## Ajout de la régularisation du poids\n",
    "\n",
    "\n",
    "Vous connaissez peut-être le principe de rasoir d'Occam : si deux explications sont données, l'explication la plus susceptible d'être correcte est \"la plus simple\", celui qui émet le moins d'hypothèses. \n",
    "\n",
    "Ceci s’applique également aux modèles appris par les réseaux de neurones.\n",
    "\n",
    "Il existe plusieurs ensembles de valeurs de pondération (plusieurs modèles) pouvant expliquer les données, et les modèles plus simples risquent moins d'overfitter que les modèles complexes.\n",
    "\n",
    "Un \"modèle simple\" dans ce contexte est un modèle où la distribution des valeurs de paramètre a moins d'entropie. "
   ]
  },
  {
   "cell_type": "markdown",
   "metadata": {
    "slideshow": {
     "slide_type": "subslide"
    }
   },
   "source": [
    "Un moyen courant d’atténuer l’overfitting consiste à imposer des contraintes à la complexité du réseau en forçant ses poids à ne prendre que de petites valeurs, ce qui rend la distribution des valeurs de poids plus \"régulière\". \n",
    "\n",
    "Il s'agit de la \"régularisation des poids\", et cela se fait en ajoutant à la fonction de perte du réseau un _seuil_ associé à des poids importants. \n",
    "\n",
    "\n",
    "* Régularisation L1, où le coût ajouté est proportionnel à la valeur absolue des coefficients de pondération\n",
    "\n",
    "* Régularisation L2, où le coût ajouté est proportionnel à la valeur carrée de la valeur des coefficients de pondération \n",
    "\n",
    "\n",
    "Dans Keras, la régularisation du poids est ajoutée en transmettant _weight weightizer instances_ aux couches comme arguments de mots clés. Ajoutons le poids L2 régularisation à notre réseau de classification de critiques de films:"
   ]
  },
  {
   "cell_type": "code",
   "execution_count": 9,
   "metadata": {
    "slideshow": {
     "slide_type": "fragment"
    }
   },
   "outputs": [],
   "source": [
    "from tensorflow.keras import regularizers\n",
    "\n",
    "l2_model = models.Sequential()\n",
    "l2_model.add(layers.Dense(16, kernel_regularizer=regularizers.l2(0.001),\n",
    "                          activation='relu', input_shape=(10000,)))\n",
    "l2_model.add(layers.Dense(16, kernel_regularizer=regularizers.l2(0.001),\n",
    "                          activation='relu'))\n",
    "l2_model.add(layers.Dense(1, activation='sigmoid'))"
   ]
  },
  {
   "cell_type": "code",
   "execution_count": 10,
   "metadata": {
    "slideshow": {
     "slide_type": "subslide"
    }
   },
   "outputs": [],
   "source": [
    "l2_model.compile(optimizer='rmsprop',\n",
    "                 loss='binary_crossentropy',\n",
    "                 metrics=['acc'])"
   ]
  },
  {
   "cell_type": "markdown",
   "metadata": {
    "slideshow": {
     "slide_type": "fragment"
    }
   },
   "source": [
    "\n",
    "`l2 (0.001)` signifie que chaque coefficient de la matrice de pondération de la couche ajoute `0.001 * weight_coefficient_value` à la perte totale du réseau. \n",
    "\n",
    "Notez que, comme cette pénalité n’est ajoutée que lors de la formation, la perte pour ce réseau sera beaucoup plus importante lors de l'apprentissage qu'au moment du test.\n",
    "\n",
    "Voici l'impact de notre pénalité de régularisation L2:"
   ]
  },
  {
   "cell_type": "code",
   "execution_count": 11,
   "metadata": {
    "slideshow": {
     "slide_type": "subslide"
    }
   },
   "outputs": [
    {
     "name": "stdout",
     "output_type": "stream",
     "text": [
      "Train on 25000 samples, validate on 25000 samples\n",
      "Epoch 1/20\n",
      "25000/25000 [==============================] - 4s 156us/step - loss: 0.5041 - acc: 0.8084 - val_loss: 0.3782 - val_acc: 0.8838\n",
      "Epoch 2/20\n",
      "25000/25000 [==============================] - 4s 148us/step - loss: 0.3131 - acc: 0.9066 - val_loss: 0.3327 - val_acc: 0.8897\n",
      "Epoch 3/20\n",
      "25000/25000 [==============================] - 4s 150us/step - loss: 0.2665 - acc: 0.9224 - val_loss: 0.3694 - val_acc: 0.8692\n",
      "Epoch 4/20\n",
      "25000/25000 [==============================] - 4s 146us/step - loss: 0.2482 - acc: 0.9287 - val_loss: 0.3387 - val_acc: 0.8862\n",
      "Epoch 5/20\n",
      "25000/25000 [==============================] - 4s 148us/step - loss: 0.2354 - acc: 0.9353 - val_loss: 0.3804 - val_acc: 0.8694\n",
      "Epoch 6/20\n",
      "25000/25000 [==============================] - 4s 149us/step - loss: 0.2228 - acc: 0.9411 - val_loss: 0.3783 - val_acc: 0.8730\n",
      "Epoch 7/20\n",
      "25000/25000 [==============================] - 4s 149us/step - loss: 0.2189 - acc: 0.9414 - val_loss: 0.3685 - val_acc: 0.8769\n",
      "Epoch 8/20\n",
      "25000/25000 [==============================] - 4s 151us/step - loss: 0.2178 - acc: 0.9429 - val_loss: 0.3723 - val_acc: 0.8794\n",
      "Epoch 9/20\n",
      "25000/25000 [==============================] - 4s 147us/step - loss: 0.2100 - acc: 0.9447 - val_loss: 0.4023 - val_acc: 0.8668\n",
      "Epoch 10/20\n",
      "25000/25000 [==============================] - 4s 144us/step - loss: 0.2040 - acc: 0.9477 - val_loss: 0.4065 - val_acc: 0.8694\n",
      "Epoch 11/20\n",
      "25000/25000 [==============================] - 4s 144us/step - loss: 0.2030 - acc: 0.9462 - val_loss: 0.4136 - val_acc: 0.8664\n",
      "Epoch 12/20\n",
      "25000/25000 [==============================] - 4s 145us/step - loss: 0.1968 - acc: 0.9504 - val_loss: 0.4034 - val_acc: 0.8701\n",
      "Epoch 13/20\n",
      "25000/25000 [==============================] - 4s 148us/step - loss: 0.1912 - acc: 0.9536 - val_loss: 0.4157 - val_acc: 0.8704\n",
      "Epoch 14/20\n",
      "25000/25000 [==============================] - 4s 148us/step - loss: 0.1921 - acc: 0.9520 - val_loss: 0.5033 - val_acc: 0.8416\n",
      "Epoch 15/20\n",
      "25000/25000 [==============================] - 4s 145us/step - loss: 0.1874 - acc: 0.9543 - val_loss: 0.4994 - val_acc: 0.8454\n",
      "Epoch 16/20\n",
      "25000/25000 [==============================] - 4s 146us/step - loss: 0.1819 - acc: 0.9563 - val_loss: 0.5071 - val_acc: 0.8433\n",
      "Epoch 17/20\n",
      "25000/25000 [==============================] - 4s 155us/step - loss: 0.1798 - acc: 0.9585 - val_loss: 0.4195 - val_acc: 0.8697\n",
      "Epoch 18/20\n",
      "25000/25000 [==============================] - 4s 151us/step - loss: 0.1792 - acc: 0.9580 - val_loss: 0.4274 - val_acc: 0.8666\n",
      "Epoch 19/20\n",
      "25000/25000 [==============================] - 4s 147us/step - loss: 0.1744 - acc: 0.9594 - val_loss: 0.4329 - val_acc: 0.8657\n",
      "Epoch 20/20\n",
      "25000/25000 [==============================] - 4s 146us/step - loss: 0.1710 - acc: 0.9617 - val_loss: 0.4962 - val_acc: 0.8492\n"
     ]
    }
   ],
   "source": [
    "l2_model_hist = l2_model.fit(x_train, y_train,\n",
    "                             epochs=20,\n",
    "                             batch_size=512,\n",
    "                             validation_data=(x_test, y_test))"
   ]
  },
  {
   "cell_type": "code",
   "execution_count": 12,
   "metadata": {
    "slideshow": {
     "slide_type": "subslide"
    }
   },
   "outputs": [
    {
     "data": {
      "image/png": "[encoded data removed]",
      "text/plain": [
       "<Figure size 432x288 with 1 Axes>"
      ]
     },
     "metadata": {},
     "output_type": "display_data"
    }
   ],
   "source": [
    "l2_model_val_loss = l2_model_hist.history['val_loss']\n",
    "\n",
    "plt.plot(epochs, original_val_loss, 'b+', label='Original model')\n",
    "plt.plot(epochs, l2_model_val_loss, 'bo', label='L2-regularized model')\n",
    "plt.xlabel('Epochs')\n",
    "plt.ylabel('Validation loss')\n",
    "plt.legend()\n",
    "\n",
    "plt.show()"
   ]
  },
  {
   "cell_type": "markdown",
   "metadata": {
    "slideshow": {
     "slide_type": "subslide"
    }
   },
   "source": [
    "On peut aussi utiliser :"
   ]
  },
  {
   "cell_type": "code",
   "execution_count": null,
   "metadata": {
    "collapsed": true,
    "slideshow": {
     "slide_type": "fragment"
    }
   },
   "outputs": [],
   "source": [
    "from tensorflow.keras import regularizers\n",
    "\n",
    "# L1 regularization\n",
    "regularizers.l1(0.001)\n",
    "\n",
    "# L1 and L2 regularization at the same time\n",
    "regularizers.l1_l2(l1=0.001, l2=0.001)"
   ]
  },
  {
   "cell_type": "markdown",
   "metadata": {
    "slideshow": {
     "slide_type": "slide"
    }
   },
   "source": [
    "\n",
    "## Ajout de dropout\n",
    "\n",
    "\n",
    "Le dropout est l’une des techniques de régularisation des réseaux de neurones les plus efficaces et les plus couramment utilisées. Elle a été développée par Hinton et son équipe.\n",
    "\n",
    "\n",
    "Le dropout, appliqué à une couche, consiste à \"abandonner\" de manière aléatoire (c'est-à-dire mettre à zéro) un nombre de\n",
    "caractéristiques de sortie de la couche pendant l'apprentissage. \n",
    "\n",
    "\n",
    "Supposons qu'une couche donnée renvoie normalement un vecteur `[0.2, 0.5, 1.3, 0.8, 1.1]` pour un échantillon d'entrée donné pendant l'apprentissage ; après application du dropout, ce vecteur aura quelques zéro réparties de manière aléatoire, par ex. `[0, 0.5, 1.3, 0, 1.1] `. \n",
    "\n",
    "\n",
    "Le \"taux d'abandon\" correspond à la fraction des fonctions en cours de mise à zéro; il est généralement réglé entre 0,2 et 0,5.\n",
    "\n",
    "Au moment du test, aucune unité n'est supprimée et, à la place, les valeurs de sortie de la couche sont réduites d'un facteur égal au taux d'abandon, de manière à maintenir l’équilibre entre le fait que plus d’unités sont actives qu’au moment de l'apprentissage."
   ]
  },
  {
   "cell_type": "markdown",
   "metadata": {
    "slideshow": {
     "slide_type": "subslide"
    }
   },
   "source": [
    "\n",
    "Cette technique peut sembler étrange et arbitraire. Pourquoi cela aiderait-il à réduire l'overfitting? \n",
    "\n",
    "\n",
    "Geoff Hinton a déclaré avoir été inspiré, entre autres, par un mécanisme de prévention de la fraude utilisé par les banques - en ses propres termes: \n",
    "\n",
    "\n",
    "\"Je suis allé à ma banque. Le personnel des guichets ont changé et j'ai demandé à l'un d'entre eux pourquoi. Il a dit que cela nécessitait une coopération entre employés pour frauder avec succès la banque, ce qui m'a fait comprendre que le fait de supprimer au hasard un sous-ensemble différent de neurones sur chaque exemple empêcherait les conspirations et réduit ainsi le surapprentissage\".\n",
    "\n",
    "\n",
    "L'idée centrale est que l'introduction de bruit dans les valeurs de sortie d'une couche peut briser des modèles d'événements qui ne sont pas significatifs (ce que Hinton appelle des \"conspirations\"), que le réseau commencerait à mémoriser si aucun bruit n'était présent.\n",
    "\n",
    "\n",
    "Dans Keras, vous pouvez introduire un abandon dans un réseau via la couche `Dropout`, qui est appliquée à la sortie du calque juste avant, par exemple:"
   ]
  },
  {
   "cell_type": "code",
   "execution_count": null,
   "metadata": {
    "slideshow": {
     "slide_type": "fragment"
    }
   },
   "outputs": [],
   "source": [
    "model.add(layers.Dropout(0.5))"
   ]
  },
  {
   "cell_type": "code",
   "execution_count": 14,
   "metadata": {
    "slideshow": {
     "slide_type": "subslide"
    }
   },
   "outputs": [],
   "source": [
    "dpt_model = models.Sequential()\n",
    "dpt_model.add(layers.Dense(16, activation='relu', input_shape=(10000,)))\n",
    "dpt_model.add(layers.Dropout(0.5))\n",
    "dpt_model.add(layers.Dense(16, activation='relu'))\n",
    "dpt_model.add(layers.Dropout(0.5))\n",
    "dpt_model.add(layers.Dense(1, activation='sigmoid'))\n",
    "\n",
    "dpt_model.compile(optimizer='rmsprop',\n",
    "                  loss='binary_crossentropy',\n",
    "                  metrics=['acc'])"
   ]
  },
  {
   "cell_type": "code",
   "execution_count": 15,
   "metadata": {
    "slideshow": {
     "slide_type": "subslide"
    }
   },
   "outputs": [
    {
     "name": "stdout",
     "output_type": "stream",
     "text": [
      "Train on 25000 samples, validate on 25000 samples\n",
      "Epoch 1/20\n",
      "25000/25000 [==============================] - 4s 167us/step - loss: 0.5573 - acc: 0.7182 - val_loss: 0.4038 - val_acc: 0.8624\n",
      "Epoch 2/20\n",
      "25000/25000 [==============================] - 4s 151us/step - loss: 0.3982 - acc: 0.8450 - val_loss: 0.3091 - val_acc: 0.8860\n",
      "Epoch 3/20\n",
      "25000/25000 [==============================] - 4s 148us/step - loss: 0.3275 - acc: 0.8840 - val_loss: 0.2858 - val_acc: 0.8896\n",
      "Epoch 4/20\n",
      "25000/25000 [==============================] - 4s 172us/step - loss: 0.2758 - acc: 0.9065 - val_loss: 0.2796 - val_acc: 0.8880\n",
      "Epoch 5/20\n",
      "25000/25000 [==============================] - 4s 156us/step - loss: 0.2435 - acc: 0.9198 - val_loss: 0.2890 - val_acc: 0.8887\n",
      "Epoch 6/20\n",
      "25000/25000 [==============================] - 4s 153us/step - loss: 0.2188 - acc: 0.9284 - val_loss: 0.3033 - val_acc: 0.8819\n",
      "Epoch 7/20\n",
      "25000/25000 [==============================] - 4s 151us/step - loss: 0.1951 - acc: 0.9376 - val_loss: 0.3225 - val_acc: 0.8868\n",
      "Epoch 8/20\n",
      "25000/25000 [==============================] - 4s 155us/step - loss: 0.1791 - acc: 0.9413 - val_loss: 0.3414 - val_acc: 0.8816\n",
      "Epoch 9/20\n",
      "25000/25000 [==============================] - 4s 150us/step - loss: 0.1652 - acc: 0.9456 - val_loss: 0.3601 - val_acc: 0.8794\n",
      "Epoch 10/20\n",
      "25000/25000 [==============================] - 4s 162us/step - loss: 0.1549 - acc: 0.9504 - val_loss: 0.3818 - val_acc: 0.8798\n",
      "Epoch 11/20\n",
      "25000/25000 [==============================] - 4s 166us/step - loss: 0.1463 - acc: 0.9550 - val_loss: 0.3948 - val_acc: 0.8768\n",
      "Epoch 12/20\n",
      "25000/25000 [==============================] - 4s 156us/step - loss: 0.1381 - acc: 0.9567 - val_loss: 0.4492 - val_acc: 0.8768\n",
      "Epoch 13/20\n",
      "25000/25000 [==============================] - 4s 152us/step - loss: 0.1338 - acc: 0.9590 - val_loss: 0.4405 - val_acc: 0.8730\n",
      "Epoch 14/20\n",
      "25000/25000 [==============================] - 4s 158us/step - loss: 0.1247 - acc: 0.9625 - val_loss: 0.4826 - val_acc: 0.8760\n",
      "Epoch 15/20\n",
      "25000/25000 [==============================] - 4s 145us/step - loss: 0.1246 - acc: 0.9608 - val_loss: 0.4979 - val_acc: 0.8746\n",
      "Epoch 16/20\n",
      "25000/25000 [==============================] - 4s 148us/step - loss: 0.1211 - acc: 0.9626 - val_loss: 0.5060 - val_acc: 0.8734\n",
      "Epoch 17/20\n",
      "25000/25000 [==============================] - 4s 143us/step - loss: 0.1150 - acc: 0.9656 - val_loss: 0.5379 - val_acc: 0.8745\n",
      "Epoch 18/20\n",
      "25000/25000 [==============================] - 4s 143us/step - loss: 0.1151 - acc: 0.9644 - val_loss: 0.5604 - val_acc: 0.8745\n",
      "Epoch 19/20\n",
      "25000/25000 [==============================] - 4s 144us/step - loss: 0.1058 - acc: 0.9673 - val_loss: 0.5493 - val_acc: 0.8680\n",
      "Epoch 20/20\n",
      "25000/25000 [==============================] - 4s 145us/step - loss: 0.1130 - acc: 0.9659 - val_loss: 0.5878 - val_acc: 0.8724\n"
     ]
    }
   ],
   "source": [
    "dpt_model_hist = dpt_model.fit(x_train, y_train,\n",
    "                               epochs=20,\n",
    "                               batch_size=512,\n",
    "                               validation_data=(x_test, y_test))"
   ]
  },
  {
   "cell_type": "code",
   "execution_count": 16,
   "metadata": {
    "slideshow": {
     "slide_type": "subslide"
    }
   },
   "outputs": [
    {
     "data": {
      "image/png": "[encoded data removed]",
      "text/plain": [
       "<Figure size 432x288 with 1 Axes>"
      ]
     },
     "metadata": {},
     "output_type": "display_data"
    }
   ],
   "source": [
    "dpt_model_val_loss = dpt_model_hist.history['val_loss']\n",
    "\n",
    "plt.plot(epochs, original_val_loss, 'b+', label='Original model')\n",
    "plt.plot(epochs, dpt_model_val_loss, 'bo', label='Dropout-regularized model')\n",
    "plt.xlabel('Epochs')\n",
    "plt.ylabel('Validation loss')\n",
    "plt.legend()\n",
    "\n",
    "plt.show()"
   ]
  }
 ],
 "metadata": {
  "celltoolbar": "Diaporama",
  "kernelspec": {
   "display_name": "Python 3",
   "language": "python",
   "name": "python3"
  },
  "language_info": {
   "codemirror_mode": {
    "name": "ipython",
    "version": 3
   },
   "file_extension": ".py",
   "mimetype": "text/x-python",
   "name": "python",
   "nbconvert_exporter": "python",
   "pygments_lexer": "ipython3",
   "version": "3.7.7"
  }
 },
 "nbformat": 4,
 "nbformat_minor": 2
}
